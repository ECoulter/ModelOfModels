{
 "cells": [
  {
   "cell_type": "markdown",
   "metadata": {},
   "source": [
    "## Data Source:\n",
    "GFMS http://eagle2.umd.edu/flood/  \n",
    "GloFAS http://www.globalfloods.eu  \n",
    "Watersheds https://www.wri.org/resources/data-sets/aqueduct-global-maps-30-data   "
   ]
  },
  {
   "cell_type": "markdown",
   "metadata": {},
   "source": [
    "### Global Flood Monitoring System (GFMS)\n",
    "\n",
    "A Description for the Output Data of Global Flood Monitoring System (GFMS) http://eagle2.umd.edu/flood/GFMS_readme.pdf   \n",
    "\n",
    "The GFMS (http://flood.umd.edu ) is a NASA-funded experimental system using real-time TRMM Multi-satellite Precipitation Analysis (TMPA) precipitation information as input to a quasi-global (50°N - 50°S) hydrological runoff and routing model running on a 1/8th degree latitude/longitude grid. Flood detection/intensity estimates are based on 13 years of retrospective model runs with TMPA input, with flood thresholds derived for each grid location using routed runoff statistics (95th percentile plus parameters related to basin hydrologic characteristics). The intensity value is the calculated water depth above the flood threshold.\n",
    "\n",
    "The Table below shows the details of some of the variable outputs from the GFMS. Currently only the flood intensity (in depth) above threshold is available for public access. All these variables are straight-forwardly written to binary files without any additional operations (i.e. no multiplies) in 4-byte float type for the domain of 50°N - 50°S at 3-hour time step and 1/8th deg. spatial resolution. The dimension and the geo-reference information for the data grid of each file are: row=800, col=2458, xllcorner= -127.25, yllcorner=-50 and cellsize=0.125. The NoData in the files are -9999.\n",
    "\n",
    "| | File Name | Var. Name | Unit |\n",
    "| --- | --- | --- | -- |\n",
    "|1|Flood_byStor_yyyymmddhh.bin| Flood intensity (in depth) above threshold|mm|  \n",
    "|2|Flood_byQ_yyyymmddhh.bin| Streamflow above flood threshold|m3/s|  \n",
    "|3|Q_yyymmddhh.bin| Streamflow|m3/s|  \n",
    "|4|Routed_yyyymmddhh.bin| Surface water storage|mm|  \n",
    "|5|V_yyyymmddhh.bin| Channel water velocity|m/s|  \n",
    "|6|yyyymmddhh.inst.bin| Instant rain|mm/h|  \n",
    "|7|yyyymmddhh.1day.bin| 1 day accumulated Rain|mm|  \n",
    "|8|yyyymmddhh.3days.bin| 3 day accumulated Rain|mm|  \n",
    "|9|yyyymmddhh.7days.bin| 7 day accumulated Rain|mm|  \n"
   ]
  },
  {
   "cell_type": "markdown",
   "metadata": {},
   "source": [
    "#### The requirements for GFMS shall support:\n",
    "* Ability to provide rapid time series display as incident layers in DisasterAWARE (currently available)\n",
    "* Ability to estimate impacted areas of watersheds (size and % of watershed impacted)\n",
    "* Ability to estimate depth (max and mean for impacted watershed)\n",
    "* Ability to estimate duration (hours/days) of impacts at watershed level, leveraging time series data \n",
    "* Ability to locate a hazard or incident point within the watershed (eg. the locus of the most severe flooding)\n"
   ]
  },
  {
   "cell_type": "code",
   "execution_count": null,
   "metadata": {},
   "outputs": [],
   "source": []
  },
  {
   "cell_type": "code",
   "execution_count": null,
   "metadata": {},
   "outputs": [],
   "source": []
  }
 ],
 "metadata": {
  "kernelspec": {
   "display_name": "Python 3",
   "language": "python",
   "name": "python3"
  },
  "language_info": {
   "codemirror_mode": {
    "name": "ipython",
    "version": 3
   },
   "file_extension": ".py",
   "mimetype": "text/x-python",
   "name": "python",
   "nbconvert_exporter": "python",
   "pygments_lexer": "ipython3",
   "version": "3.6.8"
  }
 },
 "nbformat": 4,
 "nbformat_minor": 2
}
