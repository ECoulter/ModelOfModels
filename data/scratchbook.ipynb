{
 "cells": [
  {
   "cell_type": "markdown",
   "metadata": {},
   "source": [
    "### GFMS:\n",
    "http://flood.umd.edu  \n",
    "http://eagle2.umd.edu/flood/download/  subfolder: [year][yearmm]  \n",
    "Flood_byStor_yyyymmddhh.bin  Flood intensity (in depth) above threshold mm  "
   ]
  },
  {
   "cell_type": "code",
   "execution_count": 7,
   "metadata": {},
   "outputs": [],
   "source": [
    "from datetime import date\n",
    "import requests, wget\n",
    "import os, sys"
   ]
  },
  {
   "cell_type": "code",
   "execution_count": 8,
   "metadata": {},
   "outputs": [
    {
     "name": "stdout",
     "output_type": "stream",
     "text": [
      "http://eagle2.umd.edu/flood/download/2020/202001\n"
     ]
    }
   ],
   "source": [
    "baseurl = \"http://eagle2.umd.edu/flood/download/\"\n",
    "# find the latest data set\n",
    "cur_year, cur_month = map(str,[date.today().year,date.today().month])\n",
    "cur_month = cur_month.zfill(2)\n",
    "dataurl = baseurl + cur_year + \"/\" + cur_year + cur_month \n",
    "print(dataurl)"
   ]
  },
  {
   "cell_type": "code",
   "execution_count": 9,
   "metadata": {},
   "outputs": [
    {
     "name": "stdout",
     "output_type": "stream",
     "text": [
      "http://eagle2.umd.edu/flood/download/2020/202001/Flood_byStor_2020011118.bin\n"
     ]
    }
   ],
   "source": [
    "response = requests.get(dataurl)\n",
    "raw_text = response.text.split()\n",
    "data_list = [x.split(\"'\")[1] for x in raw_text if \"href\" in x]\n",
    "latest_data = data_list[-2]\n",
    "latest_data_url = dataurl + \"/\" + latest_data\n",
    "print(latest_data_url)"
   ]
  },
  {
   "cell_type": "code",
   "execution_count": 10,
   "metadata": {},
   "outputs": [],
   "source": [
    "if not os.path.exists(latest_data):\n",
    "    wget.download(latest_data_url)"
   ]
  },
  {
   "cell_type": "code",
   "execution_count": 21,
   "metadata": {},
   "outputs": [],
   "source": [
    "# generate header file\n",
    "hdr_header = \"\"\"NCOLS 2458\n",
    "NROWS 800\n",
    "XLLCORNER -127.25\n",
    "YLLCORNER -50\n",
    "CELLSIZE 0.125\n",
    "PIXELTYPE FLOAT\n",
    "BYTEORDER LSBFIRST\n",
    "NODATA_VALUE -9999\n",
    "\"\"\"\n",
    "header_file = latest_data.replace(\".bin\",\".hdr\")\n",
    "with open(header_file,\"w\") as f:\n",
    "    f.write(hdr_header)"
   ]
  },
  {
   "cell_type": "code",
   "execution_count": 22,
   "metadata": {},
   "outputs": [],
   "source": [
    "vrt_template=\"\"\"<VRTDataset rasterXSize=\"2458\" rasterYSize=\"800\">\n",
    "  <SRS>GEOGCS[\"WGS 84\",DATUM[\"WGS_1984\",SPHEROID[\"WGS 84\",6378137,298.257223563,AUTHORITY[\"EPSG\",\"7030\"]],AUTHORITY[\"EPSG\",\"6326\"]],PRIMEM[\"Greenwich\",0,AUTHORITY[\"EPSG\",\"8901\"]],UNIT[\"degree\",0.0174532925199433,AUTHORITY[\"EPSG\",\"9122\"]],AUTHORITY[\"EPSG\",\"4326\"]]</SRS>\n",
    "  <GeoTransform> -1.2725000000000000e+02,  1.2500000000000000e-01,  0.0000000000000000e+00,  5.0000000000000000e+01,  0.0000000000000000e+00, -1.2500000000000000e-01</GeoTransform>\n",
    "  <VRTRasterBand dataType=\"Float32\" band=\"1\">\n",
    "    <Metadata>\n",
    "      <MDI key=\"STATISTICS_APPROXIMATE\">YES</MDI>\n",
    "      <MDI key=\"STATISTICS_MAXIMUM\">1345.408203125</MDI>\n",
    "      <MDI key=\"STATISTICS_MEAN\">26.161176808621</MDI>\n",
    "      <MDI key=\"STATISTICS_MINIMUM\">1.1765951057896e-07</MDI>\n",
    "      <MDI key=\"STATISTICS_STDDEV\">120.73468295071</MDI>\n",
    "      <MDI key=\"STATISTICS_VALID_PERCENT\">1.117</MDI>\n",
    "    </Metadata>\n",
    "    <NoDataValue>-9999</NoDataValue>\n",
    "    <ComplexSource>\n",
    "      <SourceFilename relativeToVRT=\"1\">{}</SourceFilename>\n",
    "      <SourceBand>1</SourceBand>\n",
    "      <SourceProperties RasterXSize=\"2458\" RasterYSize=\"800\" DataType=\"Float32\" BlockXSize=\"2458\" BlockYSize=\"1\" />\n",
    "      <SrcRect xOff=\"0\" yOff=\"0\" xSize=\"2458\" ySize=\"800\" />\n",
    "      <DstRect xOff=\"0\" yOff=\"0\" xSize=\"2458\" ySize=\"800\" />\n",
    "      <NODATA>-9999</NODATA>\n",
    "    </ComplexSource>\n",
    "  </VRTRasterBand>\n",
    "</VRTDataset>\"\"\""
   ]
  },
  {
   "cell_type": "code",
   "execution_count": 23,
   "metadata": {},
   "outputs": [],
   "source": [
    "# generate VRT file\n",
    "vrt_file = latest_data.replace(\".bin\",\".vrt\")\n",
    "with open(vrt_file,\"w\") as f:\n",
    "    f.write(vrt_template.format(latest_data))"
   ]
  },
  {
   "cell_type": "code",
   "execution_count": 24,
   "metadata": {},
   "outputs": [
    {
     "name": "stdout",
     "output_type": "stream",
     "text": [
      "Driver: VRT/Virtual Raster\n",
      "Files: Flood_byStor_2020011118.vrt\n",
      "       Flood_byStor_2020011118.bin\n",
      "Size is 2458, 800\n",
      "Coordinate System is:\n",
      "GEOGCS[\"WGS 84\",\n",
      "    DATUM[\"WGS_1984\",\n",
      "        SPHEROID[\"WGS 84\",6378137,298.257223563,\n",
      "            AUTHORITY[\"EPSG\",\"7030\"]],\n",
      "        AUTHORITY[\"EPSG\",\"6326\"]],\n",
      "    PRIMEM[\"Greenwich\",0,\n",
      "        AUTHORITY[\"EPSG\",\"8901\"]],\n",
      "    UNIT[\"degree\",0.0174532925199433,\n",
      "        AUTHORITY[\"EPSG\",\"9122\"]],\n",
      "    AUTHORITY[\"EPSG\",\"4326\"]]\n",
      "Origin = (-127.250000000000000,50.000000000000000)\n",
      "Pixel Size = (0.125000000000000,-0.125000000000000)\n",
      "Corner Coordinates:\n",
      "Upper Left  (-127.2500000,  50.0000000) (127d15' 0.00\"W, 50d 0' 0.00\"N)\n",
      "Lower Left  (-127.2500000, -50.0000000) (127d15' 0.00\"W, 50d 0' 0.00\"S)\n",
      "Upper Right ( 180.0000000,  50.0000000) (180d 0' 0.00\"E, 50d 0' 0.00\"N)\n",
      "Lower Right ( 180.0000000, -50.0000000) (180d 0' 0.00\"E, 50d 0' 0.00\"S)\n",
      "Center      (  26.3750000,   0.0000000) ( 26d22'30.00\"E,  0d 0' 0.01\"N)\n",
      "Band 1 Block=128x128 Type=Float32, ColorInterp=Undefined\n",
      "  Min=0.000 Max=1345.408 \n",
      "  Minimum=0.000, Maximum=1345.408, Mean=26.161, StdDev=120.735\n",
      "  NoData Value=-9999\n",
      "  Metadata:\n",
      "    STATISTICS_APPROXIMATE=YES\n",
      "    STATISTICS_MAXIMUM=1345.408203125\n",
      "    STATISTICS_MEAN=26.161176808621\n",
      "    STATISTICS_MINIMUM=1.1765951057896e-07\n",
      "    STATISTICS_STDDEV=120.73468295071\n",
      "    STATISTICS_VALID_PERCENT=1.117\n"
     ]
    }
   ],
   "source": [
    "!gdalinfo {vrt_file}"
   ]
  },
  {
   "cell_type": "code",
   "execution_count": null,
   "metadata": {},
   "outputs": [],
   "source": []
  }
 ],
 "metadata": {
  "kernelspec": {
   "display_name": "Python 3",
   "language": "python",
   "name": "python3"
  },
  "language_info": {
   "codemirror_mode": {
    "name": "ipython",
    "version": 3
   },
   "file_extension": ".py",
   "mimetype": "text/x-python",
   "name": "python",
   "nbconvert_exporter": "python",
   "pygments_lexer": "ipython3",
   "version": "3.6.8"
  }
 },
 "nbformat": 4,
 "nbformat_minor": 4
}
