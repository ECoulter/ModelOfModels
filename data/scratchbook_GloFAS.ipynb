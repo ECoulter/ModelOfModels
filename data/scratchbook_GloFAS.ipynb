{
 "cells": [
  {
   "cell_type": "markdown",
   "metadata": {},
   "source": [
    "## GloFAS \n",
    "https://www.globalfloods.eu   \n",
    "https://www.globalfloods.eu/general-information/data-and-services/  "
   ]
  },
  {
   "cell_type": "code",
   "execution_count": 16,
   "metadata": {},
   "outputs": [],
   "source": [
    "# common import\n",
    "from IPython.display import Image"
   ]
  },
  {
   "cell_type": "markdown",
   "metadata": {},
   "source": [
    "### WMS Service  \n",
    "http://globalfloods-ows.ecmwf.int/glofas-ows/ows.py?  \n",
    "http://www.globalfloods.eu/static/downloads/GloFAS-WMS-T_usermanual.pdf   "
   ]
  },
  {
   "cell_type": "code",
   "execution_count": 6,
   "metadata": {},
   "outputs": [],
   "source": [
    "# import leaflet\n",
    "from ipyleaflet import Map,WMSLayer,basemaps,WidgetControl\n",
    "# import owslib\n",
    "from owslib.wms import WebMapService"
   ]
  },
  {
   "cell_type": "code",
   "execution_count": 3,
   "metadata": {},
   "outputs": [
    {
     "data": {
      "application/vnd.jupyter.widget-view+json": {
       "model_id": "cd35178806e647a2acf10f7064cc1c34",
       "version_major": 2,
       "version_minor": 0
      },
      "text/plain": [
       "Map(basemap={'url': 'http://server.arcgisonline.com/ArcGIS/rest/services/World_Topo_Map/MapServer/tile/{z}/{y}…"
      ]
     },
     "metadata": {},
     "output_type": "display_data"
    }
   ],
   "source": [
    "wms_url = 'http://globalfloods-ows.ecmwf.int/glofas-ows/ows.py?'\n",
    "# Reporting Points: EPSG 3857\n",
    "wms_layer = 'RPG_U'\n",
    "m = Map(center=(0, -180), zoom=2,basemap=basemaps.Esri.WorldTopoMap)\n",
    "wms1 = WMSLayer(\n",
    "    url=wms_url,\n",
    "    layers=wms_layer,\n",
    "    transparent=True,\n",
    "    format=\"image/png\",\n",
    "    version=\"1.3.0\",\n",
    ")\n",
    "m.add_layer(wms1)\n",
    "m"
   ]
  },
  {
   "cell_type": "code",
   "execution_count": 8,
   "metadata": {},
   "outputs": [
    {
     "name": "stdout",
     "output_type": "stream",
     "text": [
      "['GLOFAS_OWS', 'Static', 'date', 'FloodHazard100y', 'MajorRiverBasins', 'GlofasLakesReservoirs', 'GlofasReservoirImpact', 'UpstreamArea', 'MajorRivers1', 'MajorRivers2', 'MajorRivers3', 'MajorRivers4', 'MajorRivers5', 'MajorRivers6', 'AdministrativeRegions', 'ErrorMessage', 'Hydrological', 'RPG_U', 'RPGM', 'RPGH', 'RPGS', 'sumALHEGE', 'sumALEEGE', 'RPG80', 'rivermap_4mon', 'areamap_4mon', 'sumAL41EGE', 'sumAL42EGE', 'sumAL43EGE', 'Meteorological', 'EGE_probRgt300', 'EGE_probRgt150', 'EGE_probRgt50', 'AccRainEGE', 'RainAnimation', 'Flood risk', 'RapidImpactAssessment', 'RapidFloodMapping']\n"
     ]
    }
   ],
   "source": [
    "# load basic information of WMS service\n",
    "wms = WebMapService(wms_url)\n",
    "wms.identification.title\n",
    "layers=list(wms.contents)\n",
    "print(layers)"
   ]
  },
  {
   "cell_type": "code",
   "execution_count": 12,
   "metadata": {},
   "outputs": [
    {
     "name": "stdout",
     "output_type": "stream",
     "text": [
      "Reporting Points\n",
      "(-20037500.0, -20049000.0, 20037500.0, 20049000.0, 'EPSG:3857')\n",
      "(-180.0, -85.06, 180.0, 85.06)\n",
      "{'default': {'title': 'default', 'legend': 'http://globalfloods-ows.ecmwf.int/glofas-ows/?version=1.1.1&service=WMS&request=GetLegendGraphic&layer=RPG_U&format=image/png&STYLE=default'}}\n"
     ]
    }
   ],
   "source": [
    "# info on RPG_U\n",
    "layer = \"RPG_U\"\n",
    "print(wms[layer].title)\n",
    "print(wms[layer].boundingBox)\n",
    "print(wms[layer].boundingBoxWGS84)\n",
    "print(wms[layer].styles)"
   ]
  },
  {
   "cell_type": "code",
   "execution_count": 21,
   "metadata": {},
   "outputs": [
    {
     "data": {
      "image/png": "[encoded data removed]",
      "text/plain": [
       "<IPython.core.display.Image object>"
      ]
     },
     "metadata": {
      "image/png": {
       "height": 100
      }
     },
     "output_type": "display_data"
    }
   ],
   "source": [
    "# load legend\n",
    "legend_url = wms[layer].styles['default']['legend']\n",
    "legend_image=Image(legend_url,format='png',height=100)\n",
    "display(legend_image)"
   ]
  },
  {
   "cell_type": "code",
   "execution_count": null,
   "metadata": {},
   "outputs": [],
   "source": []
  }
 ],
 "metadata": {
  "kernelspec": {
   "display_name": "Python 3",
   "language": "python",
   "name": "python3"
  },
  "language_info": {
   "codemirror_mode": {
    "name": "ipython",
    "version": 3
   },
   "file_extension": ".py",
   "mimetype": "text/x-python",
   "name": "python",
   "nbconvert_exporter": "python",
   "pygments_lexer": "ipython3",
   "version": "3.6.8"
  }
 },
 "nbformat": 4,
 "nbformat_minor": 2
}
